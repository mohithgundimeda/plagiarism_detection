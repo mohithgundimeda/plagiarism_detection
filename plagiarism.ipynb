{
 "cells": [
  {
   "cell_type": "code",
   "execution_count": 1,
   "id": "27582139-91f0-4dad-9b76-232dd8166408",
   "metadata": {},
   "outputs": [],
   "source": [
    "import os\n",
    "from sklearn.feature_extraction.text import TfidfVectorizer\n",
    "from sklearn.metrics.pairwise import cosine_similarity"
   ]
  },
  {
   "cell_type": "code",
   "execution_count": 2,
   "id": "e575fe9d-753b-4181-a4ee-a2d52d171847",
   "metadata": {},
   "outputs": [],
   "source": [
    "directory=r'C:\\Users\\mohit\\Downloads\\Plagiarism-checker-Python-master\\Plagiarism-checker-Python-master'\n",
    "docs=[doc for doc in os.listdir(directory) if doc.endswith('.txt')]"
   ]
  },
  {
   "cell_type": "code",
   "execution_count": 3,
   "id": "11733b1a-3a53-4c99-8884-5beb9b08e9ad",
   "metadata": {},
   "outputs": [],
   "source": [
    "texts=[open(file,encoding='utf-8').read() for file in docs] "
   ]
  },
  {
   "cell_type": "code",
   "execution_count": 4,
   "id": "c861e54a-e537-4ae0-8af0-2a9f8d29de96",
   "metadata": {},
   "outputs": [
    {
     "data": {
      "text/plain": [
       "3"
      ]
     },
     "execution_count": 4,
     "metadata": {},
     "output_type": "execute_result"
    }
   ],
   "source": [
    "len(texts)"
   ]
  },
  {
   "cell_type": "code",
   "execution_count": 5,
   "id": "eb5c2e53-c4ae-4829-9bfd-42925f6cd4bd",
   "metadata": {},
   "outputs": [],
   "source": [
    "def vectorize(text):\n",
    "    return TfidfVectorizer().fit_transform(text).toarray()\n",
    "def similarity(text1,text2):\n",
    "    return cosine_similarity([text1,text2])[0][1]"
   ]
  },
  {
   "cell_type": "code",
   "execution_count": 6,
   "id": "c05322ae-1313-4ea2-836e-5de87656b81c",
   "metadata": {},
   "outputs": [
    {
     "data": {
      "text/plain": [
       "(3, 41)"
      ]
     },
     "execution_count": 6,
     "metadata": {},
     "output_type": "execute_result"
    }
   ],
   "source": [
    "vectors=vectorize(texts)\n",
    "vectors.shape"
   ]
  },
  {
   "cell_type": "code",
   "execution_count": 7,
   "id": "f62bf50d-abe8-4681-b178-55f8190ee590",
   "metadata": {},
   "outputs": [],
   "source": [
    "zipped_vectors=list(zip(docs,vectors))\n",
    "plagiarism_results = set()"
   ]
  },
  {
   "cell_type": "code",
   "execution_count": 8,
   "id": "363d82a6-bb93-4fe7-89b8-9c9923b4dc16",
   "metadata": {},
   "outputs": [],
   "source": [
    "def find_plagiarism(zipped_vec):\n",
    "    for student_a , vector_a in zipped_vec:\n",
    "        temp=zipped_vec.copy()\n",
    "        index=zipped_vec.index((student_a,vector_a))\n",
    "        del temp[index]\n",
    "        for student_b , vector_b in temp:\n",
    "            sim_score=similarity(vector_a,vector_b)\n",
    "            students=sorted((student_a,student_b))\n",
    "            pair=(students[0],students[1],sim_score)\n",
    "            plagiarism_results.add(pair)\n",
    "    return plagiarism_results"
   ]
  },
  {
   "cell_type": "code",
   "execution_count": 9,
   "id": "a456cd28-cbf7-4bf4-a1f5-4c21d79482d4",
   "metadata": {},
   "outputs": [],
   "source": [
    "result=find_plagiarism(zipped_vectors)"
   ]
  },
  {
   "cell_type": "code",
   "execution_count": 10,
   "id": "0881c9d9-e490-42f9-9473-eb794879d76c",
   "metadata": {},
   "outputs": [
    {
     "data": {
      "text/plain": [
       "{('fatma.txt', 'john.txt', 0.14806887549598563),\n",
       " ('fatma.txt', 'juma.txt', 0.18643448370323357),\n",
       " ('john.txt', 'juma.txt', 0.5465972177348937)}"
      ]
     },
     "execution_count": 10,
     "metadata": {},
     "output_type": "execute_result"
    }
   ],
   "source": [
    "result"
   ]
  },
  {
   "cell_type": "code",
   "execution_count": null,
   "id": "778d03c2-6409-4ed6-9646-aa13660413af",
   "metadata": {},
   "outputs": [],
   "source": []
  }
 ],
 "metadata": {
  "kernelspec": {
   "display_name": "Python 3 (ipykernel)",
   "language": "python",
   "name": "python3"
  },
  "language_info": {
   "codemirror_mode": {
    "name": "ipython",
    "version": 3
   },
   "file_extension": ".py",
   "mimetype": "text/x-python",
   "name": "python",
   "nbconvert_exporter": "python",
   "pygments_lexer": "ipython3",
   "version": "3.12.2"
  }
 },
 "nbformat": 4,
 "nbformat_minor": 5
}
